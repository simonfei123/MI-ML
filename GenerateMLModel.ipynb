{
 "cells": [
  {
   "cell_type": "markdown",
   "metadata": {},
   "source": [
    "# getDataFrame\n",
    "!!!Make sure to have consistent naming for both the eeg and event files as well as equal number of eeg and event files!!!"
   ]
  },
  {
   "cell_type": "code",
   "execution_count": 1,
   "metadata": {},
   "outputs": [],
   "source": [
    "import os\n",
    "import sys\n",
    "import time\n",
    "import pandas as pd\n",
    "import numpy as np"
   ]
  },
  {
   "cell_type": "code",
   "execution_count": 2,
   "metadata": {},
   "outputs": [],
   "source": [
    "data_folder = 'data'\n",
    "data_files = os.listdir(data_folder)\n",
    "data_files = [i for i in data_files if '.csv' in i]\n",
    "data_files_eeg = [i for i in data_files if 'eeg' in i]\n",
    "data_files_event = [i for i in data_files if 'event' in i]\n",
    "data_files_eeg.sort() # Make sure to have consistent naming for both the eeg and event files\n",
    "data_files_event.sort()\n",
    "data_eeg = [pd.read_csv('data/'+i) for i in data_files_eeg]\n",
    "data_event = [pd.read_csv('data/'+i) for i in data_files_event]"
   ]
  },
  {
   "cell_type": "code",
   "execution_count": 3,
   "metadata": {},
   "outputs": [],
   "source": [
    "for i in range(len(data_event)): # Convert event time into 4ms increment while matching with the eeg time\n",
    "    adjusted_time = []\n",
    "    for time in data_event[i]['timestamp']:\n",
    "        index = data_eeg[i].loc[data_eeg[i]['timestamp'] <= time].index.values[-1] # Pick the latest eeg time before the event time\n",
    "        adjusted_time.append(index * 4)\n",
    "    data_event[i]['timestamp'] = adjusted_time\n",
    "    data_event[i] = data_event[i].rename(columns={'timestamp' : 'time'})\n",
    "\n",
    "for i in range(len(data_eeg)):# Convert eeg time into 4ms increment\n",
    "    eeg = data_eeg[i]\n",
    "    eeg['timestamp'] = list(range(0,len(eeg)*4,4))\n",
    "    data_eeg[i] = data_eeg[i].rename(columns={'timestamp' : 'time'})\n",
    "    data_eeg[i] = data_eeg[i].rename(columns={'4':'C4', '5':'C2', '6':'C1', '7':'C3'})"
   ]
  },
  {
   "cell_type": "code",
   "execution_count": 4,
   "metadata": {},
   "outputs": [
    {
     "name": "stderr",
     "output_type": "stream",
     "text": [
      "/Users/simonfei/opt/anaconda3/lib/python3.7/site-packages/ipykernel_launcher.py:4: SettingWithCopyWarning: \n",
      "A value is trying to be set on a copy of a slice from a DataFrame.\n",
      "Try using .loc[row_indexer,col_indexer] = value instead\n",
      "\n",
      "See the caveats in the documentation: https://pandas.pydata.org/pandas-docs/stable/user_guide/indexing.html#returning-a-view-versus-a-copy\n",
      "  after removing the cwd from sys.path.\n"
     ]
    }
   ],
   "source": [
    "# Extract the labels from the events\n",
    "event_start = [event.loc[event['event'].str.contains('start')] for event in data_event]\n",
    "for es in event_start:\n",
    "    es['event'] = [int(i[-1]) for i in np.array(es['event'])]\n",
    "event_start_label = event_start\n",
    "event_start_label = [esl.drop('time', axis = 1) for esl in event_start_label]\n",
    "\n",
    "# Convert the labels into np arrays\n",
    "labels = [esl.values.reshape(len(esl),) for esl in event_start_label]\n",
    "labels = np.concatenate(labels, axis = None)"
   ]
  },
  {
   "cell_type": "code",
   "execution_count": 7,
   "metadata": {},
   "outputs": [],
   "source": [
    "for i in range(len(data_eeg)): # add 'EventStart' in eeg data\n",
    "    es = [0] * len(data_eeg[i])\n",
    "    sts = event_start[i]['time']\n",
    "    for st in sts:\n",
    "        es[round(st/4)] = 1\n",
    "    data_eeg[i]['EventStart'] = es"
   ]
  },
  {
   "cell_type": "code",
   "execution_count": null,
   "metadata": {},
   "outputs": [],
   "source": []
  },
  {
   "cell_type": "code",
   "execution_count": null,
   "metadata": {},
   "outputs": [],
   "source": []
  }
 ],
 "metadata": {
  "kernelspec": {
   "display_name": "Python 3",
   "language": "python",
   "name": "python3"
  },
  "language_info": {
   "codemirror_mode": {
    "name": "ipython",
    "version": 3
   },
   "file_extension": ".py",
   "mimetype": "text/x-python",
   "name": "python",
   "nbconvert_exporter": "python",
   "pygments_lexer": "ipython3",
   "version": "3.7.6"
  }
 },
 "nbformat": 4,
 "nbformat_minor": 4
}
